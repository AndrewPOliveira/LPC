{
 "cells": [
  {
   "cell_type": "markdown",
   "metadata": {},
   "source": [
    "```\n",
    " Laboratório de Princípios de Comunicações (LPC) \n",
    " Período 2021.1e \n",
    " Notebook de auxílio ao guia de Experimentos 1\n",
    " Tema(s): Introdução ao GNU Radio. Séries de Fourier. Distorção.\n",
    " Professor(es): Bruno B. Albert e Edson P. da Silva\n",
    " \n",
    " As práticas experimentais propostas no experimento 1 têm por objetivos:\n",
    " \n",
    " - Introduzir ao GNU Radio Companion como ferramenta para realização de experimentos em comunicações;\n",
    " - Simular e analisar séries de Fourier de sinais comuns;\n",
    " - Caracterizar distorções de canal. \n",
    " ```"
   ]
  },
  {
   "cell_type": "markdown",
   "metadata": {},
   "source": [
    "# Notebook de auxílio ao Guia de Experimentos 1"
   ]
  },
  {
   "cell_type": "markdown",
   "metadata": {
    "toc": true
   },
   "source": [
    "<h1>Sumário<span class=\"tocSkip\"></span></h1>\n",
    "<div class=\"toc\"><ul class=\"toc-item\"><li><span><a href=\"#Representação-de-funções-periódicas-via-séries-de-Fourier\" data-toc-modified-id=\"Representação-de-funções-periódicas-via-séries-de-Fourier-1\"><span class=\"toc-item-num\">1&nbsp;&nbsp;</span>Representação de funções periódicas via séries de Fourier</a></span><ul class=\"toc-item\"><li><span><a href=\"#Cálculo-dos-coeficientes-de-Fourier-via-integração-numérica\" data-toc-modified-id=\"Cálculo-dos-coeficientes-de-Fourier-via-integração-numérica-1.1\"><span class=\"toc-item-num\">1.1&nbsp;&nbsp;</span>Cálculo dos coeficientes de Fourier via integração numérica</a></span></li><li><span><a href=\"#Aproximação-via-série-de-Fourier-para-a-onda-quadrada\" data-toc-modified-id=\"Aproximação-via-série-de-Fourier-para-a-onda-quadrada-1.2\"><span class=\"toc-item-num\">1.2&nbsp;&nbsp;</span>Aproximação via série de Fourier para a onda quadrada</a></span></li><li><span><a href=\"#Aproximação-via-série-de-Fourier-para-a-onda-triangular\" data-toc-modified-id=\"Aproximação-via-série-de-Fourier-para-a-onda-triangular-1.3\"><span class=\"toc-item-num\">1.3&nbsp;&nbsp;</span>Aproximação via série de Fourier para a onda triangular</a></span></li><li><span><a href=\"#Aproximação-via-série-de-Fourier-para-a-onda-dente-de-serra\" data-toc-modified-id=\"Aproximação-via-série-de-Fourier-para-a-onda-dente-de-serra-1.4\"><span class=\"toc-item-num\">1.4&nbsp;&nbsp;</span>Aproximação via série de Fourier para a onda dente de serra</a></span></li><li><span><a href=\"#Aproximação-via-série-de-Fourier-para-um-sinal-arbitrário\" data-toc-modified-id=\"Aproximação-via-série-de-Fourier-para-um-sinal-arbitrário-1.5\"><span class=\"toc-item-num\">1.5&nbsp;&nbsp;</span>Aproximação via série de Fourier para um sinal arbitrário</a></span></li><li><span><a href=\"#Reescrevendo-a-série-de-Fourier-na-sua-forma-harmônica\" data-toc-modified-id=\"Reescrevendo-a-série-de-Fourier-na-sua-forma-harmônica-1.6\"><span class=\"toc-item-num\">1.6&nbsp;&nbsp;</span>Reescrevendo a série de Fourier na sua forma harmônica</a></span></li></ul></li><li><span><a href=\"#Distorção-de-sinais\" data-toc-modified-id=\"Distorção-de-sinais-2\"><span class=\"toc-item-num\">2&nbsp;&nbsp;</span>Distorção de sinais</a></span><ul class=\"toc-item\"><li><span><a href=\"#Exemplos-de-distorção\" data-toc-modified-id=\"Exemplos-de-distorção-2.1\"><span class=\"toc-item-num\">2.1&nbsp;&nbsp;</span>Exemplos de distorção</a></span></li><li><span><a href=\"#Tipos-de-distorção\" data-toc-modified-id=\"Tipos-de-distorção-2.2\"><span class=\"toc-item-num\">2.2&nbsp;&nbsp;</span>Tipos de distorção</a></span></li><li><span><a href=\"#Quando-um-sistema-linear-e-invariante-no-tempo-(LIT)-não-causará-distorção?\" data-toc-modified-id=\"Quando-um-sistema-linear-e-invariante-no-tempo-(LIT)-não-causará-distorção?-2.3\"><span class=\"toc-item-num\">2.3&nbsp;&nbsp;</span>Quando um sistema linear e invariante no tempo (LIT) não causará distorção?</a></span></li></ul></li><li><span><a href=\"#Energia,-potência-e-largura-de-banda\" data-toc-modified-id=\"Energia,-potência-e-largura-de-banda-3\"><span class=\"toc-item-num\">3&nbsp;&nbsp;</span>Energia, potência e largura de banda</a></span><ul class=\"toc-item\"><li><span><a href=\"#Potência-e-energia\" data-toc-modified-id=\"Potência-e-energia-3.1\"><span class=\"toc-item-num\">3.1&nbsp;&nbsp;</span>Potência e energia</a></span></li><li><span><a href=\"#Escala-decibel\" data-toc-modified-id=\"Escala-decibel-3.2\"><span class=\"toc-item-num\">3.2&nbsp;&nbsp;</span>Escala decibel</a></span></li><li><span><a href=\"#Ocupação-de-banda\" data-toc-modified-id=\"Ocupação-de-banda-3.3\"><span class=\"toc-item-num\">3.3&nbsp;&nbsp;</span>Ocupação de banda</a></span></li></ul></li></ul></div>"
   ]
  },
  {
   "cell_type": "code",
   "execution_count": null,
   "metadata": {
    "ExecuteTime": {
     "end_time": "2021-11-19T19:18:18.979548Z",
     "start_time": "2021-11-19T19:18:18.958563Z"
    }
   },
   "outputs": [],
   "source": [
    "from IPython.core.pylabtools import figsize\n",
    "\n",
    "from IPython.core.display import HTML\n",
    "HTML(\"\"\"\n",
    "<style>\n",
    ".output_png {\n",
    "    display: table-cell;\n",
    "    text-align: center;\n",
    "    vertical-align: middle;\n",
    "}\n",
    "</style>\n",
    "\"\"\")"
   ]
  },
  {
   "cell_type": "code",
   "execution_count": null,
   "metadata": {
    "ExecuteTime": {
     "end_time": "2021-11-19T19:18:21.093248Z",
     "start_time": "2021-11-19T19:18:18.982546Z"
    },
    "lines_to_next_cell": 2
   },
   "outputs": [],
   "source": [
    "# Carrega pacotes\n",
    "import matplotlib.pyplot as plt\n",
    "import numpy as np\n",
    "from numpy import cos, sin, arctan2, sqrt, log10\n",
    "from scipy.signal import square, sawtooth\n",
    "import pandas as pd\n",
    "\n",
    "# configura notebook\n",
    "pd.set_option(\"display.precision\", 2)\n",
    "pd.options.display.float_format = '{:,.2f}'.format\n",
    "figsize(10, 3)\n",
    "\n",
    "IPython_default = plt.rcParams.copy()\n",
    "plt.rc('grid', color='k', linestyle='-', linewidth=0.5)\n",
    "plt.rcParams['axes.grid'] = True"
   ]
  },
  {
   "cell_type": "markdown",
   "metadata": {},
   "source": [
    "## Representação de funções periódicas via séries de Fourier\n",
    "\n",
    "Seja a função $f(t)$ periódica com período $P$, isto é $f(t)=f(t+nP)$ para $n=1,2,3,...$, e absolutamente integrável num intervalo de comprimento $P$. Considerando que $f(t)$ admite representação em termos de uma série trigonométrica de Fourier, temos que\n",
    "\n",
    "$$ \n",
    "\\begin{equation}\n",
    "f(t)=\\frac{a_{0}}{2}+\\sum_{n=1}^{\\infty}\\left[a_{n} \\cos \\left(2\\pi t\\frac{n}{P}\\right)+b_{n} \\sin \\left(2\\pi t\\frac{n}{P}\\right)\\right] \n",
    "\\end{equation}\n",
    "$$\n",
    "\n",
    "em que $a_n$ e $b_n$ são os coeficientes de Fourier da expansão de $f(t)$, calculados de acordo com as expressões\n",
    "\n",
    "$$\n",
    "\\begin{equation}\n",
    "a_{n}=\\frac{2}{P} \\int_{P} f(t) \\cos \\left(2\\pi t\\frac{n}{P}\\right) dt \n",
    "\\end{equation}\n",
    "$$\n",
    "\n",
    "$$\n",
    "\\begin{equation}\n",
    "b_{n}=\\frac{2}{P} \\int_{P} f(t) \\sin \\left(2\\pi t\\frac{n}{P}\\right) dt.\n",
    "\\end{equation}\n",
    "$$\n",
    "\n",
    "Em particular, para os coeficientes associados ao nível DC do sinal ($f=0$), temos que\n",
    "\n",
    "$$\\begin{eqnarray}\n",
    "a_{0}&=&\\frac{2}{P} \\int_{P} f(t) \\cos(0) dt =\\frac{2}{P} \\int_{P} f(t) dt\\nonumber\\\\\n",
    "b_{0}&=&\\frac{2}{P} \\int_{P} f(t) \\sin(0) dt = 0.\\nonumber\n",
    "\\end{eqnarray}$$\n",
    "\n",
    "Para revisitar o emprego das séries de Fourier na análise de sinais e sistemas, começamos gerando alguns sinais periódicos para em seguida determinar a sua composição espectral via cálculo dos coeficientes de Fourier."
   ]
  },
  {
   "cell_type": "code",
   "execution_count": null,
   "metadata": {
    "ExecuteTime": {
     "end_time": "2021-11-19T19:18:21.919739Z",
     "start_time": "2021-11-19T19:18:21.096245Z"
    }
   },
   "outputs": [],
   "source": [
    "# Geração de sinais periódicos\n",
    "\n",
    "f0 = 100     # Frequência fundamental\n",
    "fa = 400*f0  # Frequência de amostragem\n",
    "\n",
    "t    = np.arange(0, 40e-3, 1/fa)\n",
    "π    = np.pi\n",
    "\n",
    "A    = 1     # amplitude\n",
    "ϕ    = 0*π/4 # fase\n",
    "\n",
    "# gera sinais periódicos\n",
    "quad   = A*square(2*π*f0*t + ϕ)                # onda quadrada com frequência fundamental f0 e phase inicial ϕ\n",
    "triang = A*sawtooth(2*π*f0*t + ϕ, width = 0.5) # onda triangular com frequência fundamental f0 e phase inicial ϕ\n",
    "dente  = A*sawtooth(2*π*f0*t + ϕ)              # onda dente de serra com frequência fundamental f0 e phase inicial ϕ\n",
    "\n",
    "plt.figure()\n",
    "plt.plot(t, quad,'b')\n",
    "plt.ylim(quad.min(0)-0.1, quad.max(0)+0.1)\n",
    "plt.xlim(0,t.max(0))\n",
    "plt.title('Onda quadrada')\n",
    "plt.xlabel('tempo (s)')\n",
    "plt.ylabel('amplitude')\n",
    "\n",
    "plt.figure()\n",
    "plt.plot(t, triang,'b')\n",
    "plt.ylim(triang.min(0)-0.1, triang.max(0)+0.1)\n",
    "plt.xlim(0,t.max(0))\n",
    "plt.title('Onda triangular')\n",
    "plt.xlabel('tempo (s)')\n",
    "plt.ylabel('amplitude')\n",
    "\n",
    "plt.figure()\n",
    "plt.plot(t, dente,'b')\n",
    "plt.ylim(dente.min(0)-0.1, dente.max(0)+0.1)\n",
    "plt.xlim(0,t.max(0))\n",
    "plt.title('Onda dente de serra')\n",
    "plt.xlabel('tempo (s)')\n",
    "plt.ylabel('amplitude');"
   ]
  },
  {
   "cell_type": "markdown",
   "metadata": {},
   "source": [
    "### Cálculo dos coeficientes de Fourier via integração numérica\n",
    "\n",
    "Primeiramente, vamos definir uma função simples para calcular numericamente os coeficientes $a_n$ e $b_n$ da série de Fourier para uma função periódica $f(t)$ qualquer (veja um resumo sobre o método de integração `numpy.trapz` em https://numpy.org/doc/stable/reference/generated/numpy.trapz.html)."
   ]
  },
  {
   "cell_type": "code",
   "execution_count": null,
   "metadata": {
    "ExecuteTime": {
     "end_time": "2021-11-19T19:18:21.934729Z",
     "start_time": "2021-11-19T19:18:21.922737Z"
    }
   },
   "outputs": [],
   "source": [
    "def fourierCoeff(t, f, P, ncoeffs):\n",
    "    \"\"\"\n",
    "     t  : vetor de instantes de tempo contendo pelo menos um período completo da função [segundos]\n",
    "     f  : vetor de valores de f(t) calculados para cada instante em t \n",
    "     P  : período fundamental de f [segundos]\n",
    "     ncoeffs: número de coeficiente de Fourier desejado [número inteiro maior que zero]\n",
    "     \n",
    "     an : coeficiente an\n",
    "     bn : coeficiente bn\n",
    "     \n",
    "    \"\"\"    \n",
    "    dt = t[1]-t[0]          # período de amostragem [passo de integração]\n",
    "    N  = int(np.ceil(P/dt)) # número de amostras correspondente a um período completo da onda   \n",
    "    \n",
    "    an = np.zeros((ncoeffs, 1)) # coeficientes an\n",
    "    bn = np.zeros((ncoeffs, 1)) # coeficientes bn\n",
    "    \n",
    "    # cálculo dos coeficientes an e bn utilizando o método trapezoidal de integração numérica     \n",
    "    for n in range(0, ncoeffs):# calcula coeficientes de Fourier para n=0 até n=ncoeffs-1\n",
    "        an[n] = np.trapz(f[0:N]*cos(2*np.pi*t[0:N]*n/P), dx=dt)\n",
    "        bn[n] = np.trapz(f[0:N]*sin(2*np.pi*t[0:N]*n/P), dx=dt)         \n",
    "    \n",
    "    an = an*2/P\n",
    "    bn = bn*2/P\n",
    "    \n",
    "    return an, bn"
   ]
  },
  {
   "cell_type": "markdown",
   "metadata": {},
   "source": [
    "Agora que a função ``an, bn = fourierCoeff(t, f, P, ncoeffs)`` foi definida, podemos utilizá-la para calcular os coeficientes de Fourier de sinais periódicos quaisquer. \n",
    "\n",
    "No que segue, aplica-se ``fourierCoeff`` para calcular os coeficientes de fourier das formas de onda geradas anteriormente."
   ]
  },
  {
   "cell_type": "markdown",
   "metadata": {},
   "source": [
    "### Aproximação via série de Fourier para a onda quadrada"
   ]
  },
  {
   "cell_type": "code",
   "execution_count": null,
   "metadata": {
    "ExecuteTime": {
     "end_time": "2021-11-19T19:18:22.826181Z",
     "start_time": "2021-11-19T19:18:21.937728Z"
    }
   },
   "outputs": [],
   "source": [
    "# Coeficientes de Fourier da onda quadrada\n",
    "\n",
    "ncoeffs = 10  # número de componentes harmônicos (incluindo componente dc, n=0)\n",
    "\n",
    "xf = f0*np.arange(0, ncoeffs) # frequências de cada componente harmônico\n",
    "\n",
    "# calcula coeficientes de Fourier\n",
    "quad_an, quad_bn = fourierCoeff(t, quad , 1/f0, ncoeffs)\n",
    "\n",
    "# plota gráfico\n",
    "plt.figure()\n",
    "plt.plot(xf, quad_an,'bo',label = 'coeficientes $a_{n}$')\n",
    "plt.vlines(xf, 0, quad_an,'b', alpha=0.5)\n",
    "plt.plot(xf, quad_bn,'rx',label = 'coeficientes $b_{n}$')\n",
    "plt.vlines(xf, 0, quad_bn,'r', alpha=0.5)\n",
    "\n",
    "plt.title('Onda quadrada')\n",
    "plt.legend()\n",
    "plt.xlim(0,xf.max(0))\n",
    "#plt.ylim(-2,2)\n",
    "plt.xlabel('freq (Hz)')\n",
    "plt.ylabel('amplitude')\n",
    "\n",
    "# Gera tabela com os coeficientes an, bn\n",
    "pd.DataFrame(np.hstack((quad_an, quad_bn)), columns=[\"$a_{n}$\", \"$b_{n}$\"]).T"
   ]
  },
  {
   "cell_type": "code",
   "execution_count": null,
   "metadata": {
    "ExecuteTime": {
     "end_time": "2021-11-19T19:18:23.223939Z",
     "start_time": "2021-11-19T19:18:22.828180Z"
    }
   },
   "outputs": [],
   "source": [
    "# Aproximação da onda quadrada via somatório de harmônicas da série de Fourier\n",
    "\n",
    "ncoeffs = 10 # número de componentes harmônicos (incluindo componente dc, n=0)\n",
    "\n",
    "# calcula aproximação do sinal com um somatório finito de harmônicos\n",
    "quad_aprox = np.zeros(len(t))\n",
    "for n in range(0,ncoeffs):\n",
    "    if n != 0:\n",
    "        quad_aprox += quad_an[n]*cos(2*π*n*f0*t) + quad_bn[n]*sin(2*π*n*f0*t) # soma n-ésimo componente harmônico\n",
    "    else:\n",
    "        quad_aprox += quad_an[n]/2\n",
    "\n",
    "plt.plot(t, quad,'k--',label = 'original')        \n",
    "plt.plot(t,quad_aprox,'b',label = 'aprox')\n",
    "plt.xlim(0,t.max(0))\n",
    "plt.xlabel('tempo (s)')\n",
    "plt.ylabel('amplitude')\n",
    "plt.legend();"
   ]
  },
  {
   "cell_type": "markdown",
   "metadata": {},
   "source": [
    "### Aproximação via série de Fourier para a onda triangular"
   ]
  },
  {
   "cell_type": "code",
   "execution_count": null,
   "metadata": {
    "ExecuteTime": {
     "end_time": "2021-11-19T19:18:23.717635Z",
     "start_time": "2021-11-19T19:18:23.226937Z"
    }
   },
   "outputs": [],
   "source": [
    "# Coeficientes de Fourier da onda triangular\n",
    "\n",
    "ncoeffs = 10 # número de componentes harmônicos (incluindo componente dc, n=0)\n",
    "\n",
    "xf = f0*np.arange(0, ncoeffs) # frequências de cada componente harmônico\n",
    "\n",
    "# calcula coeficientes de Fourier\n",
    "triang_an, triang_bn = fourierCoeff(t, triang , 1/f0, ncoeffs)\n",
    "\n",
    "# plota gráfico\n",
    "plt.figure()\n",
    "plt.plot(xf, triang_an,'bo',label = 'coeficientes $a_{n}$')\n",
    "plt.vlines(xf, 0, triang_an,'b', alpha=0.5)\n",
    "plt.plot(xf, triang_bn,'rx',label = 'coeficientes $b_{n}$')\n",
    "plt.vlines(xf, 0, triang_bn,'r', alpha=0.5)\n",
    "\n",
    "plt.title('Onda triangular')\n",
    "plt.legend()\n",
    "plt.xlim(0,xf.max(0))\n",
    "plt.xlabel('freq (Hz)')\n",
    "plt.ylabel('amplitude')\n",
    "\n",
    "# Gera tabela com os coeficientes an, bn\n",
    "pd.DataFrame(np.hstack((triang_an, triang_bn)), columns=[\"$a_{n}$\", \"$b_{n}$\"]).T"
   ]
  },
  {
   "cell_type": "code",
   "execution_count": null,
   "metadata": {
    "ExecuteTime": {
     "end_time": "2021-11-19T19:18:24.099399Z",
     "start_time": "2021-11-19T19:18:23.721632Z"
    }
   },
   "outputs": [],
   "source": [
    "# Aproximação da onda triangular via somatório de harmônicas da série de Fourier\n",
    "\n",
    "ncoeffs = 10 # número de componentes harmônicos (incluindo componente dc, n=0)\n",
    "\n",
    "# calcula aproximação do sinal com um somatório finito de harmônicos\n",
    "triang_aprox = np.zeros(len(t))\n",
    "for n in range(0,ncoeffs):\n",
    "    if n != 0:\n",
    "        triang_aprox += triang_an[n]*cos(2*π*n*f0*t) + triang_bn[n]*sin(2*π*n*f0*t) # soma n-ésimo componente harmônico\n",
    "    else:\n",
    "        triang_aprox += triang_an[n]/2\n",
    "\n",
    "plt.plot(t, triang,'k--',label = 'original')        \n",
    "plt.plot(t,triang_aprox,'b',label = 'aprox')\n",
    "plt.xlim(0,t.max(0))\n",
    "plt.xlabel('tempo (s)')\n",
    "plt.ylabel('amplitude')\n",
    "plt.legend();"
   ]
  },
  {
   "cell_type": "markdown",
   "metadata": {},
   "source": [
    "### Aproximação via série de Fourier para a onda dente de serra"
   ]
  },
  {
   "cell_type": "code",
   "execution_count": null,
   "metadata": {
    "ExecuteTime": {
     "end_time": "2021-11-19T19:18:24.608087Z",
     "start_time": "2021-11-19T19:18:24.103397Z"
    }
   },
   "outputs": [],
   "source": [
    "# Coeficientes de Fourier da onda dente de serra\n",
    "\n",
    "ncoeffs = 10 # número de componentes harmônicos (incluindo componente dc, n=0)\n",
    "\n",
    "xf = f0*np.arange(0, ncoeffs) # frequências de cada componente harmônico\n",
    "\n",
    "# calcula coeficientes de Fourier\n",
    "dente_an, dente_bn = fourierCoeff(t, dente , 1/f0, ncoeffs)\n",
    "\n",
    "# plota gráficos\n",
    "plt.figure()\n",
    "plt.plot(xf, dente_an,'bo',label = 'coeficientes $a_{n}$')\n",
    "plt.vlines(xf, 0, dente_an,'b', alpha=0.5)\n",
    "plt.plot(xf, dente_bn,'rx',label = 'coeficientes $b_{n}$')\n",
    "plt.vlines(xf, 0, dente_bn,'r', alpha=0.5)\n",
    "\n",
    "plt.title('Onda dente de serra')\n",
    "plt.legend()\n",
    "plt.xlim(0,xf.max(0))\n",
    "plt.xlabel('freq (Hz)')\n",
    "plt.ylabel('amplitude')\n",
    "\n",
    "# Gera tabela com os coeficientes an, bn\n",
    "pd.DataFrame(np.hstack((dente_an, dente_bn)), columns=[\"$a_{n}$\", \"$b_{n}$\"]).T"
   ]
  },
  {
   "cell_type": "code",
   "execution_count": null,
   "metadata": {
    "ExecuteTime": {
     "end_time": "2021-11-19T19:18:25.006843Z",
     "start_time": "2021-11-19T19:18:24.611085Z"
    }
   },
   "outputs": [],
   "source": [
    "# Aproximação da onda dente de serra via somatório de harmônicas da série de Fourier\n",
    "\n",
    "ncoeffs = 10 # número de componentes harmônicos (incluindo componente dc, n=0)\n",
    "\n",
    "# calcula aproximação do sinal com um somatório finito de harmônicos\n",
    "dente_aprox = np.zeros(len(t))\n",
    "for n in range(0,ncoeffs):\n",
    "    if n != 0:\n",
    "        dente_aprox += dente_an[n]*cos(2*π*n*f0*t) + dente_bn[n]*sin(2*π*n*f0*t) # soma n-ésimo componente harmônico\n",
    "    else:\n",
    "        dente_aprox += dente_an[n]/2\n",
    "\n",
    "plt.plot(t, dente,'k--',label = 'original')        \n",
    "plt.plot(t, dente_aprox,'b',label = 'aprox')\n",
    "plt.xlim(0,t.max(0))\n",
    "plt.xlabel('tempo (s)')\n",
    "plt.ylabel('amplitude')\n",
    "plt.legend();"
   ]
  },
  {
   "cell_type": "markdown",
   "metadata": {},
   "source": [
    "### Aproximação via série de Fourier para um sinal arbitrário"
   ]
  },
  {
   "cell_type": "code",
   "execution_count": null,
   "metadata": {
    "ExecuteTime": {
     "end_time": "2021-11-19T19:18:25.485545Z",
     "start_time": "2021-11-19T19:18:25.009839Z"
    }
   },
   "outputs": [],
   "source": [
    "# Coeficientes de Fourier para um sinal arbitrário\n",
    "\n",
    "sig = 2*sin(2*π*f0*t + π/4)**5\n",
    "\n",
    "sig[sig > 0.25] = 0.1\n",
    "sig[sig < -0.25] = -0.1\n",
    "\n",
    "ncoeffs = 30 # número de componentes harmônicos (incluindo componente dc, n=0)\n",
    "\n",
    "xf = f0*np.arange(0, ncoeffs) # frequências de cada componente harmônico\n",
    "\n",
    "# calcula coeficientes de Fourier\n",
    "sig_an, sig_bn = fourierCoeff(t, sig , 1/f0, ncoeffs)\n",
    "\n",
    "# plota gráficos\n",
    "plt.figure()\n",
    "plt.plot(xf, sig_an,'bo',label = 'coeficientes $a_{n}$')\n",
    "plt.vlines(xf, 0, sig_an,'b', alpha=0.5)\n",
    "plt.plot(xf, sig_bn,'rx',label = 'coeficientes $b_{n}$')\n",
    "plt.vlines(xf, 0, sig_bn,'r', alpha=0.5)\n",
    "\n",
    "plt.title('sinal arbitrário')\n",
    "plt.legend()\n",
    "plt.xlim(0,xf.max(0))\n",
    "plt.xlabel('freq (Hz)')\n",
    "plt.ylabel('amplitude')\n",
    "\n",
    "# Gera tabela com os coeficientes an, bn\n",
    "pd.DataFrame(np.hstack((sig_an, sig_bn)), columns=[\"$a_{n}$\", \"$b_{n}$\"]).T"
   ]
  },
  {
   "cell_type": "code",
   "execution_count": null,
   "metadata": {
    "ExecuteTime": {
     "end_time": "2021-11-19T19:18:25.814343Z",
     "start_time": "2021-11-19T19:18:25.487544Z"
    }
   },
   "outputs": [],
   "source": [
    "# Aproximação de um sinal arbitrário via somatório de harmônicas da série de Fourier\n",
    "\n",
    "ncoeffs = 30 # número de componentes harmônicos (incluindo componente dc, n=0)\n",
    "\n",
    "# calcula aproximação do sinal com um somatório finito de harmônicos\n",
    "sig_aprox = np.zeros(len(t))\n",
    "for n in range(0,ncoeffs):\n",
    "    if n != 0:\n",
    "        sig_aprox += sig_an[n]*cos(2*π*n*f0*t) + sig_bn[n]*sin(2*π*n*f0*t) # soma n-ésimo componente harmônico\n",
    "    else:\n",
    "        sig_aprox += sig_an[n]/2\n",
    "\n",
    "plt.plot(t, sig,'k--',label = 'original')        \n",
    "plt.plot(t, sig_aprox,'b',label = 'aprox')\n",
    "plt.xlim(0,t.max(0))\n",
    "plt.xlabel('tempo (s)')\n",
    "plt.ylabel('amplitude')\n",
    "plt.legend();"
   ]
  },
  {
   "cell_type": "markdown",
   "metadata": {},
   "source": [
    "### Reescrevendo a série de Fourier na sua forma harmônica\n",
    "\n",
    "Podemos expressar a série de Fourier de maneira simplificada utilizando a sua forma harmônica, utilizando apenas a função cosseno para representar os componentes harmônicos da função.\n",
    "\n",
    "$$f(t)=A_{0} + \\sum_{n=1}^{\\infty} A_{n}\\cos \\left(2\\pi t \\frac{n}{P}-\\theta_{n}\\right)$$\n",
    "\n",
    "em que \n",
    "\n",
    "$$A_{0}=\\frac{a_{0}}{2},\\; A_{n}=\\sqrt{a_{n}^{2}+b_{n}^{2}} \\; \\text { para } n \\geq 1, \\; \\theta_{n}=\\arctan \\left(\\frac{b_{n}}{a_{n}}\\right)$$\n",
    "\n",
    "Esta representação é útil porque nos permite determinar diretamente a energia associada a cada componente de frequência do sinal através dos coeficientes $A_{n}$, como veremos a seguir."
   ]
  },
  {
   "cell_type": "code",
   "execution_count": null,
   "metadata": {
    "ExecuteTime": {
     "end_time": "2021-11-19T19:18:26.544896Z",
     "start_time": "2021-11-19T19:18:25.817344Z"
    }
   },
   "outputs": [],
   "source": [
    "# Aproximação da onda quadrada via somatório de harmônicas da série de Fourier\n",
    "\n",
    "ncoeffs = 10 # número de componentes harmônicos (incluindo componente dc, n=0)\n",
    "\n",
    "xf = f0*np.arange(0, ncoeffs) # frequências de cada componente harmônico\n",
    "\n",
    "# calcula coeficientes de Fourier\n",
    "quad_an, quad_bn = fourierCoeff(t, quad , 1/f0, ncoeffs)\n",
    "        \n",
    "# calcula coeficientes An e fases Θn da forma harmônica da série de Fourier a partir dos pares (an, bn).\n",
    "An = np.zeros((ncoeffs,1))\n",
    "θn = np.zeros((ncoeffs,1))\n",
    "\n",
    "for n in range(0, ncoeffs): \n",
    "    if n != 0:\n",
    "        An[n] = sqrt(quad_an[n]**2 + quad_bn[n]**2)\n",
    "        θn[n] = arctan2(quad_bn[n], quad_an[n])      # calcula arctan(bn/an)                    \n",
    "    else:\n",
    "        An[n] = quad_an[n]/2        \n",
    "\n",
    "# plota gráficos\n",
    "plt.figure()\n",
    "plt.plot(xf, An,'bo',label = 'coeficientes $A_{n}$')\n",
    "plt.vlines(xf, 0, An,'b', alpha=0.5)\n",
    "\n",
    "plt.title('Onda quadrada')\n",
    "plt.legend()\n",
    "plt.xlim(0,xf.max(0))\n",
    "plt.xlabel('freq (Hz)')\n",
    "plt.ylabel('amplitude')      \n",
    "\n",
    "plt.figure()\n",
    "plt.plot(xf, θn,'bo',label = 'coeficientes $θ_{n}$')\n",
    "plt.vlines(xf, 0, θn,'b', alpha=0.5)\n",
    "\n",
    "plt.title('Onda quadrada')\n",
    "plt.legend()\n",
    "plt.xlim(0,xf.max(0))\n",
    "plt.ylim(-2*π ,2*π)\n",
    "plt.xlabel('freq (Hz)')\n",
    "plt.ylabel('fase [rad]');"
   ]
  },
  {
   "cell_type": "markdown",
   "metadata": {},
   "source": [
    "Agora vamos obter uma aproximação do sinal original com um somatório de harmônicos"
   ]
  },
  {
   "cell_type": "code",
   "execution_count": null,
   "metadata": {
    "ExecuteTime": {
     "end_time": "2021-11-19T19:18:26.956641Z",
     "start_time": "2021-11-19T19:18:26.547892Z"
    }
   },
   "outputs": [],
   "source": [
    "# calcula aproximação do sinal com um somatório finito de harmônicos\n",
    "quad_aprox = np.zeros(len(t))\n",
    "for n in range(0,ncoeffs):\n",
    "    if n != 0:\n",
    "        quad_aprox += An[n]*cos(2*π*n*f0*t - θn[n]) # soma n-ésimo componente harmônico                                 \n",
    "    else:\n",
    "        quad_aprox += An[n]        \n",
    "        \n",
    "plt.figure()\n",
    "plt.plot(t, quad,'k--',label = 'original')        \n",
    "plt.plot(t,quad_aprox,'b',label = 'aprox')\n",
    "plt.xlim(0,t.max(0))\n",
    "plt.xlabel('tempo (s)')\n",
    "plt.ylabel('amplitude')\n",
    "plt.legend()\n",
    "\n",
    "# Gera tabela com os coeficientes an, bn, An e θn\n",
    "pd.DataFrame(np.hstack((quad_an, quad_bn, An, θn)), columns=[\"$a_{n}$\", \"$b_{n}$\", \"$A_{n}$\", \"$θ_{n}$ [rad]\"]).T"
   ]
  },
  {
   "cell_type": "markdown",
   "metadata": {},
   "source": [
    "## Distorção de sinais\n",
    "\n",
    "O conceito de *distorção* é utilizado em diversas áreas da engenharia elétrica, particulamente nas áreas de processamento de sinais e comunicações. \n",
    "\n",
    "Num sistema de comunicação, sinais são utilizados para carregar informação. Entretanto, estes sinais estão sujeitos a diversos tipos de distorção que podem acontecer no canal de comunicação, ou seja, no percurso do sinal entre transmissor e receptor. Portanto, a informação carregada por um sinal pode ser comprometida devido à diversos tipos de distorções podem modificar a sua forma. Portanto, um dos fatores que influenciam o desempenho de um sistema de comunicações é sua tolerância a efeitos distorcivos dos sinais utilizados na comunicação.\n",
    "\n",
    "### Exemplos de distorção\n",
    "\n",
    "Diz-se que um sinal sofreu distorção **quando a sua forma original foi modificada, excetuando-se os casos em que tal modificação corresponde apenas a uma mudança de escala de amplitude, ou a um atraso no tempo**, que obviamente não alteram a forma de nenhum sinal. \n",
    "\n",
    "**Exemplo 1:** $y(t) = 2x(t-25T_a)$, em que $T_a=\\frac{1}{f_a}$ é o período de amostragem. A forma de onda de $x(t)$ não é distorcida."
   ]
  },
  {
   "cell_type": "code",
   "execution_count": null,
   "metadata": {
    "ExecuteTime": {
     "end_time": "2021-11-19T19:18:27.323417Z",
     "start_time": "2021-11-19T19:18:26.959640Z"
    }
   },
   "outputs": [],
   "source": [
    "# Exemplo 1: y(t) não é uma versão distorcida de x(t)\n",
    "\n",
    "x = sin(2*π*f0*t)\n",
    "y = np.roll(2*x, 25)\n",
    "\n",
    "plt.figure()\n",
    "plt.plot(t,x,'b',label = 'x(t)');\n",
    "plt.plot(t,y,'k--',label = 'y(t)');\n",
    "plt.xlabel('tempo (s)')\n",
    "plt.ylabel('amplitude')\n",
    "plt.legend();"
   ]
  },
  {
   "cell_type": "markdown",
   "metadata": {},
   "source": [
    "**Exemplo 2:** $y(t) = x(t)+0.25x(t-25T_a)$, em que $T_a=\\frac{1}{f_a}$ é o período de amostragem. A forma de onda de $y(t)$ é uma versão distorcida de $x(t)$."
   ]
  },
  {
   "cell_type": "code",
   "execution_count": null,
   "metadata": {
    "ExecuteTime": {
     "end_time": "2021-11-19T19:18:27.657211Z",
     "start_time": "2021-11-19T19:18:27.325414Z"
    }
   },
   "outputs": [],
   "source": [
    "# Exemplo 3:  y(t) é a saída de um sistema LIT com x(t) aplicado na entrada.\n",
    "#             y(t) é uma versão distorcida de x(t) (distorção linear)\n",
    "\n",
    "x = triang\n",
    "y = x  + 0.25*np.roll(x, 25)\n",
    "\n",
    "plt.figure()\n",
    "plt.plot(t,x,'b',label = 'x(t)');\n",
    "plt.plot(t,y,'k--',label = 'y(t)');\n",
    "plt.xlabel('tempo (s)')\n",
    "plt.ylabel('amplitude')\n",
    "plt.legend();"
   ]
  },
  {
   "cell_type": "markdown",
   "metadata": {},
   "source": [
    "**Exemplo 3:** $y(t) = [x(t)]^5$. A forma de onda de $y(t)$ é uma versão distorcida de $x(t)$."
   ]
  },
  {
   "cell_type": "code",
   "execution_count": null,
   "metadata": {
    "ExecuteTime": {
     "end_time": "2021-11-19T19:18:28.022985Z",
     "start_time": "2021-11-19T19:18:27.660209Z"
    }
   },
   "outputs": [],
   "source": [
    "# Exemplo 3:  y(t) é uma função não-linear de x(t)\n",
    "#             y(t) é uma versão distorcida de x(t) (distorção não-linear)\n",
    "\n",
    "x = sin(2*π*f0*t)\n",
    "y = x**5\n",
    "\n",
    "plt.figure()\n",
    "plt.plot(t,x,'b',label = 'x(t)');\n",
    "plt.plot(t,y,'k--',label = 'y(t)');\n",
    "plt.xlabel('tempo (s)')\n",
    "plt.ylabel('amplitude')\n",
    "plt.legend();"
   ]
  },
  {
   "cell_type": "markdown",
   "metadata": {},
   "source": [
    "### Tipos de distorção\n",
    "\n",
    "Distorções podem ser classificadas em dois tipos básicos:\n",
    "\n",
    "- **Distorções lineares**: causadas por operações lineares sofridas pelo sinal. Quando analisadas no domínio da frequência, distorções lineares podem ser classificadas em\n",
    "\n",
    "    - *Distorções de amplitude*: ocorrem devido a **alterações na amplitude dos componentes de frequência do sinal (i.e. diferentes componentes de frequência sofrem alterações de amplitudes distintas)**. Exemplo: ao passar um sinal por um filtro passa-baixas, componentes de alta frequência serão atenuados causando uma distorção de amplitude do sinal na saída com relação ao sinal na entrada do filtro (suavização do sinal na saída do filtro).\n",
    "    - *Distorções de fase*: ocorrem devido a **alterações na fase dos componentes de frequência do sinal (i.e. diferentes componentes de frequência sofrem alterações de fase distintas)**.\n",
    "\n",
    "- **Distorções não-lineares**: causadas por operações não-lineares sofridas pelo sinal. Uma característica que distingue distorções não-lineares das distorções lineares é que as primeiras são as únicas capazes de gerar novos componentes de frequência no sinal distorcido em comparação ao sinal original. Portanto, o surgimento de novos componentes harmônicos no sinal distorcido é um indicativo de que trata-se de uma distorção não-linear. \n",
    "\n",
    "Veja no exempo a seguir que, observando os coeficientes da série de Fourier $(a_{n}^{(x)},b_{n}^{(x)})$ do sinal $x(t)=\\mathrm{sen}(t)$ e os coeficientes $(a_{n}^{(y)},b_{n}^{(y)})$ obtidos para sinal distorcido $y(t) = x^5(t)$, nota-se que o terceiro e o quinto harmônicos, ausentes no espectro de frequências de $x(t)$, agora aparecem no espectro de $y(t)$."
   ]
  },
  {
   "cell_type": "code",
   "execution_count": null,
   "metadata": {
    "ExecuteTime": {
     "end_time": "2021-11-19T19:18:28.053965Z",
     "start_time": "2021-11-19T19:18:28.025982Z"
    }
   },
   "outputs": [],
   "source": [
    "# Aplicando uma função não-linear ao sinal e observando o que ocorre com os coeficientes dos harmônicos\n",
    "\n",
    "ncoeffs = 6 # número de componentes harmônicos (incluindo componente dc, n=0)\n",
    "\n",
    "x = sin(2*π*f0*t)\n",
    "y = x**5\n",
    "\n",
    "# calcula coeficientes de Fourier de x e y\n",
    "x_an, x_bn = fourierCoeff(t, x , 1/f0, ncoeffs)\n",
    "y_an, y_bn = fourierCoeff(t, y , 1/f0, ncoeffs)\n",
    " \n",
    "# Gera tabela com os coeficientes an, bn dos sinais x e y\n",
    "pd.DataFrame(np.hstack((x_an, x_bn, y_an, y_bn)), columns=[\"$a_{n}^{(x)}$\", \"$b_{n}^{(x)}$\",\\\n",
    "                                                           \"$a_{n}^{(y)}$\",\"$b_{n}^{(y)}$\"]).T"
   ]
  },
  {
   "cell_type": "markdown",
   "metadata": {},
   "source": [
    "### Quando um sistema linear e invariante no tempo (LIT) não causará distorção?\n",
    "\n",
    "As duas operações lineares que não distorcem um sinal estão resumidas em\n",
    "\n",
    "$$\\begin{equation}\n",
    "y(t)=Gx(t-\\tau).\n",
    "\\label{eq1}\n",
    "\\end{equation}$$\n",
    "\n",
    "Logo, $y(t)$ conserva a mesma forma do sinal $x(t)$. Podemos considerar $y(t)$ em $\\eqref{eq1}$ como sendo a saída de um sistema LIT, cuja resposta ao impulso é $h(t)=G\\delta(t-\\tau)$, ao aplicar-se o sinal $x(t)$ na sua entrada. Analisando $\\eqref{eq1}$ no domínio da frequência, temos\n",
    "\n",
    "$$\\begin{align}\n",
    "Y(f)&=Ge^{-j2\\pi f \\tau}X(f)\\\\ \\\\\n",
    "Y(f)&=H(f)X(f), \\text { com } H(f) = Ge^{-j2\\pi f \\tau}.\n",
    "\\label{eq2} \\\\\n",
    "\\end{align}$$\n",
    "\n",
    "Note que a resposta em amplitude de $H(f)$ é constante $|H(f)|=G$ para todo $f$ (ou seja, trata-se de um filtro passa-tudo) e a resposta em fase $\\angle H(f)=-2\\pi f \\tau$ é uma função linear de $f$. Portanto, como $H(f)$ representa **o único sistema LIT que não distorcerá o sinal de entrada**, se um sistema LIT qualquer não possuir resposta em frequência na forma expressa na $\\eqref{eq2}$, naturalmente $y(t)$ será uma versão distorcida de $x(t)$.\n",
    "\n",
    "Na prática, $x(t)$ não possui largura de banda infinita. Logo, para que $y(t)$ não seja uma versão distorcida de $x(t)$ é necessário apenas que as condições $|H(f)|=G$ e $\\angle H(f)=-2\\pi f \\tau$  sejam satisfeitas dentro do intervalo de frequências em que $x(t)$ está contido.\n",
    "\n",
    "\n",
    "**Verificação para o caso de sinais periódicos**:\n",
    "\n",
    "Assuma que o sinal $x(t)$ é periódico e admite representação em termos de uma série de Fourier, então\n",
    "\n",
    "$$\n",
    "\\begin{equation}\n",
    "x(t)=A_{0} + \\sum_{n=1}^{\\infty} A_{n}\\cos \\left(2\\pi n f_0 t-\\theta_{n}\\right) \n",
    "\\label{eq3}\n",
    "\\end{equation}\n",
    "$$\n",
    "\n",
    "em que $f_0 = 1/P$. Logo, considerando a relação entre $x(t)$ e $y(t)$ dada pela $\\eqref{eq1}$ temos\n",
    "\n",
    "$$\\begin{align}\n",
    "y(t)&=GA_{0} + \\sum_{n=1}^{\\infty} GA_{n}\\cos \\left[2\\pi n f_0 (t-\\tau) -\\theta_{n}\\right]\\\\\n",
    "y(t)&=GA_{0} + \\sum_{n=1}^{\\infty} GA_{n}\\cos \\left[2\\pi n f_0 t -2\\pi n f_0 \\tau  -\\theta_{n}\\right]\\\\\n",
    "y(t)&=GA_{0} + \\sum_{n=1}^{\\infty} GA_{n}\\cos \\left[2\\pi n f_0 t -\\theta_{n} + \\Delta \\theta\\right] \\label{eq4}\n",
    "\\end{align}$$\n",
    "\n",
    "Desse modo, ao compararmos amplitude e fase dos componentes harmônicos em $\\eqref{eq3}$ e $\\eqref{eq4}$, conclui-se que para que $y(t)=h(t)\\ast x(t)$ não seja uma versão distorcida de $x(t)$, todos os componentes de frequência de $x(t)$ devem sofrer o mesmo ganho $G$ (ou atenuação, se $|G|<1$) e o desvio de fase $\\Delta \\theta$ gerado pelo atraso $\\tau$ deve ser linear com relação à frequência $\\Delta \\theta = (-2\\pi f_0 \\tau)n$, ou seja, o desvio de fase do $n$-ésimo componente harmônico tem que ser $n$ vezes o desvio de fase do componente fundamental, o que está de acordo com $\\eqref{eq2}$ "
   ]
  },
  {
   "cell_type": "markdown",
   "metadata": {},
   "source": [
    "## Energia, potência e largura de banda\n",
    "\n",
    "\n",
    "Três grandezas importantes para a caracterizarização de sinais são: energia, potência e largura de banda. Para que possamos entender a relação entre essas grandezas e como podemos determiná-las para um dado sinal, vamos revisitar suas definições formais e aplicar esses conceitos aos sinais que estamos analisando."
   ]
  },
  {
   "cell_type": "markdown",
   "metadata": {},
   "source": [
    "### Potência e energia\n",
    "\n",
    "Na tabela a seguir tem-se um resumo das expressões matemáticas definindo energia e potência para sinais definidos no tempo contínuo e no tempo discreto:\n",
    "\n",
    "$$\n",
    "\\begin{array}{|l|l|l|}\\hline\n",
    "\\text { Propriedade } & \\text { Tempo contínuo } & \\text { Tempo discreto } \\\\\n",
    "\\hline \\text { Energia } & E_{x}=\\int_{-\\infty}^{\\infty}|x(t)|^{2} dt <\\infty & E_{x}=\\sum_{n=-\\infty}^{\\infty}|x[n]|^{2}<\\infty \\\\\n",
    "\\hline \\text { Potência } & P_{x}=\\lim _{T \\rightarrow \\infty} \\frac{1}{2 T} \\int_{-T}^{T}|x(t)|^{2} dt<\\infty & P_{x}=\\lim _{N \\rightarrow \\infty} \\frac{1}{2 N+1} \\sum_{n=-N}^{N}|x[n]|^{2}<\\infty\\\\\\hline\n",
    "\\end{array}\n",
    "$$\n",
    "\n",
    "Perceba que se o sinal tiver duração infinita ($-\\infty<t<\\infty$ ou $-\\infty<n<\\infty$) as expressões podem divergir, de forma que para alguns tipos de sinais estas grandezas não serão bem definidas. Um exemplo simples é o caso de uma onda senoidal de duração infinita $s(t)=A\\sin(2\\pi ft + \\theta)$, o qual possui energia infinita $E_s = \\infty$ e potência finita $P_s = A^2/2$.\n",
    "\n",
    "Os sinais que geramos numa simulação numérica são sempre discretos e de duração finita e, portanto, para esses sinais os somatórios que definem energia e potência são sempre finitos. Vamos calcular a potência e a energia da onda quadrada de acordo com as expressões utilizadas para sinais no tempo discreto:"
   ]
  },
  {
   "cell_type": "code",
   "execution_count": null,
   "metadata": {
    "ExecuteTime": {
     "end_time": "2021-11-19T19:18:28.069956Z",
     "start_time": "2021-11-19T19:18:28.056964Z"
    }
   },
   "outputs": [],
   "source": [
    "# Cálculo da energia\n",
    "E_quad = np.sum(abs(quad)**2)\n",
    "\n",
    "# Cálculo da potência\n",
    "N = len(quad)\n",
    "P_quad = np.sum(abs(quad)**2)/N\n",
    "\n",
    "print('Energia  = %3.2f unidades de energia' %(E_quad))\n",
    "print('Potência = %3.2f unidades de potência' %(P_quad))"
   ]
  },
  {
   "cell_type": "markdown",
   "metadata": {},
   "source": [
    "Agora vamos calcular a potência da aproximação da onda quadrada obtida via série de Fourier:"
   ]
  },
  {
   "cell_type": "code",
   "execution_count": null,
   "metadata": {
    "ExecuteTime": {
     "end_time": "2021-11-19T19:18:28.085946Z",
     "start_time": "2021-11-19T19:18:28.072955Z"
    }
   },
   "outputs": [],
   "source": [
    "# Cálculo da energia\n",
    "E_quad_aprox = np.sum(abs(quad_aprox)**2)\n",
    "\n",
    "# Cálculo da potência\n",
    "N = len(quad)\n",
    "P_quad_aprox = np.sum(abs(quad_aprox)**2)/N\n",
    "\n",
    "# Cálculo da potência pela soma da potência individual de cada componente harmônico \n",
    "P_harm = np.sum(abs(An)**2)/2\n",
    "\n",
    "print('Energia  = %3.2f unidades de energia' %(E_quad_aprox))\n",
    "print('Potência = %3.2f unidades de potência' %(P_quad_aprox))\n",
    "print('Soma das potências dos componentes harmônicos da série: %2.2f unidades de potência' %(P_harm))"
   ]
  },
  {
   "cell_type": "markdown",
   "metadata": {},
   "source": [
    "Perceba que os valores tanto de energia quanto de potência do sinal original e do sinal aproximado pela série de Fourier estão muito próximos, como esperado.\n",
    "\n",
    "Podemos visualizar como a potência do sinal se distribui no domínio da frequência plotando o gráfico da potência de cada componente harmônico em função da frequência."
   ]
  },
  {
   "cell_type": "code",
   "execution_count": null,
   "metadata": {
    "ExecuteTime": {
     "end_time": "2021-11-19T19:18:28.482703Z",
     "start_time": "2021-11-19T19:18:28.087944Z"
    }
   },
   "outputs": [],
   "source": [
    "# plota gráficos\n",
    "plt.figure()\n",
    "plt.plot(xf, (abs(An)**2)/2,'bo',label = 'potência do n-ésimo harmônico')\n",
    "plt.vlines(xf, 0, (abs(An)**2)/2,'b', alpha=0.5)\n",
    "\n",
    "plt.title('Potência por harmônico da onda quadrada')\n",
    "plt.legend()\n",
    "plt.xlim(0,xf.max(0))\n",
    "#plt.ylim(-0.1,1)\n",
    "plt.xlabel('freq (Hz)')\n",
    "plt.ylabel('potência');"
   ]
  },
  {
   "cell_type": "markdown",
   "metadata": {},
   "source": [
    "### Escala decibel\n",
    "\n",
    "Uma forma convencional de apresentar gráficos de potência consiste em utilizar a escala de decibel (dB) no eixo y. Uma medida em dB é sempre um valor comparativo entre uma grandeza qualquer e uma grandeza de referência. Tal comparação é dada pela expressão a seguir:\n",
    "\n",
    "$$ P_{\\text{dBx}} = 10\\log_{10}\\left[\\frac{P}{P_{x}}\\right]$$\n",
    "\n",
    "ou, equivalentemente\n",
    "\n",
    "$$ P = P_{x}10^{\\left(P_{\\text{dBx}}/10\\right)}.$$\n",
    "\n",
    "Na prática, o procedimento mais comum é comparar os valores de potência de um dado sinal com um valor de referência, geralmente 1 mW ou 1 W, que geram as medidas em dBm e dBW, respectivamente:\n",
    "\n",
    "$$ P_{\\text{dBm}} = 10\\log_{10}\\left[\\frac{P}{\\text{1 mW}}\\right]$$\n",
    "$$ P_{\\text{dBW}} = 10\\log_{10}\\left[\\frac{P}{\\text{1 W}}\\right]$$\n",
    "\n",
    "Por exemplo, se um sinal possui 3 dBm de potência, significa que este possui duas vezes a potência do sinal de referência, que nesse caso é 1 mW, ou seja, possui 2 mW. Uma potência de -3 dBm correponde a 0.5 mW, etc. Note que, se $P$ já possuir a mesma unidade da grandeza de referência, o argumento do logaritmo é apenas uma divisão por 1 e as expressões podem ser simplificadas para \n",
    "\n",
    "$$\\begin{align} P_{\\text{dBm}} &= 10\\log_{10}(P)\\text{, com $P$ em mW,}\\\\ \n",
    "                P_{\\text{dBW}} &= 10\\log_{10}(P)\\text{, com $P$ em W.}\n",
    "                \\end{align}$$\n",
    "\n",
    "A tabela a seguir mostra a relação entra alguns fatores multiplicativos com relação à grandeza de referência na escala linear e a correspondente variação na escala em dB.\n",
    "\n",
    "$$\n",
    "\\begin{array}{|l|c|l|c|}\n",
    "\\hline\\text {Fator de multiplicação } & \\text {Variação em dB}& \\text {Fator de multiplicação } & \\text {Variação em dB} \\\\\\hline\n",
    "1000000000 & +90 & 0.000000001 & -90 \\\\\n",
    "100000000 & +80 & 0.00000001 & -80 \\\\\n",
    "10000000 & +70 & 0.0000001 & -70 \\\\\n",
    "1000000 & +60 & 0.000001 & -60 \\\\\n",
    "100000 & +50 & 0.00001 & -50 \\\\\n",
    "10000 & +40 & 0.0001 & -40 \\\\\n",
    "1000 & +30 & 0.001 & -30 \\\\\n",
    "100 & +20 & 0.01 & -20 \\\\\n",
    "10 & +10 & 0.1 & -10 \\\\\n",
    "4 & +6 & 0.25 & -6 \\\\\n",
    "2 & +3 & 0.5 & -3 \\\\ \n",
    "1 & 0 & &\\\\\\hline\n",
    "\\end{array}\n",
    "$$\n",
    "\n",
    "Uma vez que a potência é proporcional ao quadrado da amplitude do sinal $P\\propto |s(t)|^2$, a variação de potência em dB pode também ser expressa em termos da amplitude do sinal\n",
    "\n",
    "$$ P_{\\text{dBx}} = 10\\log_{10}\\left[\\frac{P}{P_{x}}\\right] = 10\\log_{10}\\left[\\frac{|s(t)|^2}{P_{x}}\\right] = 20\\log_{10}\\left[\\frac{|s(t)|}{\\sqrt{P_{x}}}\\right],$$\n",
    "\n",
    "ou seja,\n",
    "\n",
    "$$ P_{\\text{dBx}} = 20\\log_{10}\\left[\\frac{|s(t)|}{\\sqrt{P_{x}}}\\right] \\text{    ou, no caso de $P_x =1$,   } P_{\\text{dBx}} = 20\\log_{10}|s(t)|$$\n",
    "\n",
    "Vamos plotar novamente a potência de cada componente harmônico da onda quadrada em função da frequência, mas agora utilizando a escala em dB."
   ]
  },
  {
   "cell_type": "code",
   "execution_count": null,
   "metadata": {
    "ExecuteTime": {
     "end_time": "2021-11-19T19:18:28.896449Z",
     "start_time": "2021-11-19T19:18:28.485700Z"
    }
   },
   "outputs": [],
   "source": [
    "An[An<1e-2] = 0\n",
    "PdBu = 10*log10((abs(An)**2)/2)\n",
    "\n",
    "# plota gráficos\n",
    "plt.figure()\n",
    "plt.plot(xf, PdBu,'bo',label = 'potência do n-ésimo harmônico')\n",
    "plt.vlines(xf, 0, PdBu,'b', alpha=0.5)\n",
    "\n",
    "plt.title('Distribuição e potência da onda quadrada')\n",
    "plt.legend()\n",
    "plt.xlim(0,xf.max(0))\n",
    "plt.ylim(-40,)\n",
    "plt.xlabel('freq (Hz)')\n",
    "plt.ylabel('potência (dB unidade de potência)');"
   ]
  },
  {
   "cell_type": "markdown",
   "metadata": {},
   "source": [
    "Observando o gráfico acima, vemos que a potência do componente fundamental está próxima a 0 dB, ou seja, indicando que o seu valor de potência é próximo ao valor unitário na unidade de potência considerada (i.e. $10\\log_{10}(1)=0~dB$). O quinto harmônico, por sua vez, possui potência -20 dB, indicando que seu valor de potência é um centésimo da unidade considerada (i.e. $10\\log_{10}(1/100)=-20~dB$). Veja que esta informação sobre os níveis relativos de potência entre componentes de frequência não é clara quando observamos o gráfico na escala linear. "
   ]
  },
  {
   "cell_type": "markdown",
   "metadata": {},
   "source": [
    "### Ocupação de banda\n",
    "\n",
    "O intervalo de frequências que um dado sinal ocupa é um parâmetro de muita importância em engenharia de comunicações, uma vez que a grande maioria dos sistemas de comunicações dispõe de um espectro de frequências limitado para transmissão e recepção de informação. Nesse contexto, é necessário definir métricas para quantificar a largura de banda (ou ocupação de banda) de sinais. \n",
    "\n",
    "A largura de banda de um sinal é uma medida associada ao intervalo de frequências em que a potência/energia do sinal está concentrada. Nesse aspecto, considerando sinais passa-baixas e passa-faixas, o conceito mais difundido é o conceito da largura de banda de 3 dB. Nesse caso, a largura de banda constitui o intervalo entre a frequência central de um sinal, que possui o maior nível de potência, até a frequência cuja potência está exatamente 3 dB abaixo da potência do componente central. Partindo do mesmo princípio, podemos definir *banda de 6 dB*, *banda de 10 dB*, *banda de 20 dB*, etc.  Essa metodologia para definir a banda de sinais, entretanto, é difícil de ser generalizada. Isto porque **diversas formas de espectro em que a frequência central não é a mais energética** podem aparecer em sistemas de comunicações.\n",
    "\n",
    "Uma forma mais geral de definir o conceito de banda é determinar o intervalo de frequências em que a maior parte da potência do sinal (> 90%) está contida. No gráfico abaixo, a composição percentual da potência de cada componente harmônico da série de Fourier da onda quadrada está ilustrada. Veja que mais de 90% da potência está contida nos dois primeiros harmônicos. Desse modo, podemos afirmar que a banda contendo $\\approx$ 90% da energia desse sinal é 300 Hz.\n"
   ]
  },
  {
   "cell_type": "code",
   "execution_count": null,
   "metadata": {
    "ExecuteTime": {
     "end_time": "2021-11-19T19:18:29.229245Z",
     "start_time": "2021-11-19T19:18:28.902444Z"
    },
    "scrolled": true
   },
   "outputs": [],
   "source": [
    "Ptot  = np.sum((abs(An)**2)/2) # potência total\n",
    "Pharm = (abs(An)**2)/2         # vetor com a potência individual por harmônico\n",
    "\n",
    "# plota gráficos\n",
    "plt.figure()\n",
    "plt.plot(xf, (Pharm/Ptot)*100,'bo',label = '% de potência do n-ésimo harmônico')\n",
    "plt.vlines(xf, 0, (Pharm/Ptot)*100,'b', alpha=0.5)\n",
    "\n",
    "plt.title('Distribuição percentual potência da onda quadrada por componente harmônico')\n",
    "plt.legend()\n",
    "plt.xlim(0,xf.max(0))\n",
    "plt.ylim(-5,100)\n",
    "plt.xlabel('freq (Hz)')\n",
    "plt.ylabel('% da potência total');"
   ]
  }
 ],
 "metadata": {
  "jupytext": {
   "encoding": "# -*- coding: utf-8 -*-",
   "formats": "ipynb,py:light"
  },
  "kernelspec": {
   "display_name": "Python 3",
   "language": "python",
   "name": "python3"
  },
  "language_info": {
   "codemirror_mode": {
    "name": "ipython",
    "version": 3
   },
   "file_extension": ".py",
   "mimetype": "text/x-python",
   "name": "python",
   "nbconvert_exporter": "python",
   "pygments_lexer": "ipython3",
   "version": "3.8.8"
  },
  "latex_envs": {
   "LaTeX_envs_menu_present": true,
   "autoclose": true,
   "autocomplete": true,
   "bibliofile": "biblio.bib",
   "cite_by": "apalike",
   "current_citInitial": 1,
   "eqLabelWithNumbers": true,
   "eqNumInitial": 1,
   "hotkeys": {
    "equation": "Ctrl-E",
    "itemize": "Ctrl-I"
   },
   "labels_anchors": false,
   "latex_user_defs": false,
   "report_style_numbering": false,
   "user_envs_cfg": false
  },
  "toc": {
   "base_numbering": 1,
   "nav_menu": {},
   "number_sections": true,
   "sideBar": true,
   "skip_h1_title": true,
   "title_cell": "Sumário",
   "title_sidebar": "Contents",
   "toc_cell": true,
   "toc_position": {
    "height": "47.6px",
    "left": "1363.4px",
    "top": "200.8px",
    "width": "165px"
   },
   "toc_section_display": true,
   "toc_window_display": false
  },
  "varInspector": {
   "cols": {
    "lenName": 16,
    "lenType": 16,
    "lenVar": 40
   },
   "kernels_config": {
    "python": {
     "delete_cmd_postfix": "",
     "delete_cmd_prefix": "del ",
     "library": "var_list.py",
     "varRefreshCmd": "print(var_dic_list())"
    },
    "r": {
     "delete_cmd_postfix": ") ",
     "delete_cmd_prefix": "rm(",
     "library": "var_list.r",
     "varRefreshCmd": "cat(var_dic_list()) "
    }
   },
   "oldHeight": 621.4,
   "position": {
    "height": "40px",
    "left": "1252.4px",
    "right": "20px",
    "top": "120px",
    "width": "262px"
   },
   "types_to_exclude": [
    "module",
    "function",
    "builtin_function_or_method",
    "instance",
    "_Feature"
   ],
   "varInspector_section_display": "none",
   "window_display": false
  }
 },
 "nbformat": 4,
 "nbformat_minor": 2
}
